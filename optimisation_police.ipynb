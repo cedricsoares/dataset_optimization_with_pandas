{
  "nbformat": 4,
  "nbformat_minor": 0,
  "metadata": {
    "colab": {
      "name": "optimisation_police",
      "version": "0.3.2",
      "provenance": [],
      "collapsed_sections": [],
      "include_colab_link": true
    },
    "kernelspec": {
      "name": "python3",
      "display_name": "Python 3"
    },
    "accelerator": "GPU"
  },
  "cells": [
    {
      "cell_type": "markdown",
      "metadata": {
        "id": "view-in-github",
        "colab_type": "text"
      },
      "source": [
        "<a href=\"https://colab.research.google.com/github/cedricsoares/optimizer_dataset_avec_pandas/blob/master/optimisation_police.ipynb\" target=\"_parent\"><img src=\"https://colab.research.google.com/assets/colab-badge.svg\" alt=\"Open In Colab\"/></a>"
      ]
    },
    {
      "cell_type": "code",
      "metadata": {
        "id": "y5wCZXYgaKHW",
        "colab_type": "code",
        "colab": {
          "base_uri": "https://localhost:8080/",
          "height": 887
        },
        "outputId": "05585538-1354-4cb1-d4a6-07d780b73671"
      },
      "source": [
        "!sudo pip install csvkit"
      ],
      "execution_count": 43,
      "outputs": [
        {
          "output_type": "stream",
          "text": [
            "Collecting csvkit\n",
            "\u001b[?25l  Downloading https://files.pythonhosted.org/packages/66/d8/206e4da52bcf9cc29dfa3a93837b14b37ba42f58ccbd22a42a3b3ae0381a/csvkit-1.0.4.tar.gz (3.8MB)\n",
            "\u001b[K     |████████████████████████████████| 3.8MB 29kB/s \n",
            "\u001b[?25hCollecting agate>=1.6.1 (from csvkit)\n",
            "\u001b[?25l  Downloading https://files.pythonhosted.org/packages/92/77/ef675f16486884ff7f77f3cb87aafa3429c6bb869d4d73ee23bf4675e384/agate-1.6.1-py2.py3-none-any.whl (98kB)\n",
            "\u001b[K     |████████████████████████████████| 102kB 29.4MB/s \n",
            "\u001b[?25hCollecting agate-excel>=0.2.2 (from csvkit)\n",
            "\u001b[?25l  Downloading https://files.pythonhosted.org/packages/a9/cd/ba7ce638900a91f00e6ebaa72c46fc90bfc13cb595071cee82c96057d5d6/agate-excel-0.2.3.tar.gz (153kB)\n",
            "\u001b[K     |████████████████████████████████| 163kB 48.1MB/s \n",
            "\u001b[?25hCollecting agate-dbf>=0.2.0 (from csvkit)\n",
            "  Downloading https://files.pythonhosted.org/packages/cb/05/8bd93fd8f47354e5a31b1ba5876a9498a59fa32166b2e3315da43774adb8/agate-dbf-0.2.1.tar.gz\n",
            "Collecting agate-sql>=0.5.3 (from csvkit)\n",
            "  Downloading https://files.pythonhosted.org/packages/4a/fb/796c6e7b625fde74274786da69f08aca5c5eefb891db77344f95ad7b75db/agate-sql-0.5.4.tar.gz\n",
            "Requirement already satisfied: six>=1.6.1 in /usr/local/lib/python3.6/dist-packages (from csvkit) (1.12.0)\n",
            "Collecting pytimeparse>=1.1.5 (from agate>=1.6.1->csvkit)\n",
            "  Downloading https://files.pythonhosted.org/packages/1b/b4/afd75551a3b910abd1d922dbd45e49e5deeb4d47dc50209ce489ba9844dd/pytimeparse-1.1.8-py2.py3-none-any.whl\n",
            "Collecting parsedatetime>=2.1 (from agate>=1.6.1->csvkit)\n",
            "\u001b[?25l  Downloading https://files.pythonhosted.org/packages/e3/b3/02385db13f1f25f04ad7895f35e9fe3960a4b9d53112775a6f7d63f264b6/parsedatetime-2.4.tar.gz (58kB)\n",
            "\u001b[K     |████████████████████████████████| 61kB 22.1MB/s \n",
            "\u001b[?25hRequirement already satisfied: python-slugify>=1.2.1 in /usr/local/lib/python3.6/dist-packages (from agate>=1.6.1->csvkit) (3.0.2)\n",
            "Collecting leather>=0.3.2 (from agate>=1.6.1->csvkit)\n",
            "  Downloading https://files.pythonhosted.org/packages/45/f4/692a53df6708caca1c6d088c6d9003940f164f98bd9df2bdc86233641e9c/leather-0.3.3-py3-none-any.whl\n",
            "Collecting isodate>=0.5.4 (from agate>=1.6.1->csvkit)\n",
            "\u001b[?25l  Downloading https://files.pythonhosted.org/packages/9b/9f/b36f7774ff5ea8e428fdcfc4bb332c39ee5b9362ddd3d40d9516a55221b2/isodate-0.6.0-py2.py3-none-any.whl (45kB)\n",
            "\u001b[K     |████████████████████████████████| 51kB 21.9MB/s \n",
            "\u001b[?25hRequirement already satisfied: Babel>=2.0 in /usr/local/lib/python3.6/dist-packages (from agate>=1.6.1->csvkit) (2.6.0)\n",
            "Requirement already satisfied: xlrd>=0.9.4 in /usr/local/lib/python3.6/dist-packages (from agate-excel>=0.2.2->csvkit) (1.1.0)\n",
            "Requirement already satisfied: openpyxl>=2.3.0 in /usr/local/lib/python3.6/dist-packages (from agate-excel>=0.2.2->csvkit) (2.5.9)\n",
            "Collecting dbfread>=2.0.5 (from agate-dbf>=0.2.0->csvkit)\n",
            "  Downloading https://files.pythonhosted.org/packages/4c/94/51349e43503e30ed7b4ecfe68a8809cdb58f722c0feb79d18b1f1e36fe74/dbfread-2.0.7-py2.py3-none-any.whl\n",
            "Requirement already satisfied: sqlalchemy>=1.0.8 in /usr/local/lib/python3.6/dist-packages (from agate-sql>=0.5.3->csvkit) (1.3.3)\n",
            "Requirement already satisfied: future in /usr/local/lib/python3.6/dist-packages (from parsedatetime>=2.1->agate>=1.6.1->csvkit) (0.16.0)\n",
            "Requirement already satisfied: text-unidecode==1.2 in /usr/local/lib/python3.6/dist-packages (from python-slugify>=1.2.1->agate>=1.6.1->csvkit) (1.2)\n",
            "Requirement already satisfied: pytz>=0a in /usr/local/lib/python3.6/dist-packages (from Babel>=2.0->agate>=1.6.1->csvkit) (2018.9)\n",
            "Requirement already satisfied: et-xmlfile in /usr/local/lib/python3.6/dist-packages (from openpyxl>=2.3.0->agate-excel>=0.2.2->csvkit) (1.0.1)\n",
            "Requirement already satisfied: jdcal in /usr/local/lib/python3.6/dist-packages (from openpyxl>=2.3.0->agate-excel>=0.2.2->csvkit) (1.4.1)\n",
            "Building wheels for collected packages: csvkit, agate-excel, agate-dbf, agate-sql, parsedatetime\n",
            "  Building wheel for csvkit (setup.py) ... \u001b[?25l\u001b[?25hdone\n",
            "  Stored in directory: /root/.cache/pip/wheels/5f/be/3f/d151aff6c6cce1aa1d56233d68c4b9d38b045bbe5fda018d45\n",
            "  Building wheel for agate-excel (setup.py) ... \u001b[?25l\u001b[?25hdone\n",
            "  Stored in directory: /root/.cache/pip/wheels/8a/2f/99/dbf1c6af14192030927240678c0d2176b479dcc44b51a3a6d0\n",
            "  Building wheel for agate-dbf (setup.py) ... \u001b[?25l\u001b[?25hdone\n",
            "  Stored in directory: /root/.cache/pip/wheels/06/21/5a/84eb0a6b77a3b3d3254b30aaf993533b2236fd29083e120b24\n",
            "  Building wheel for agate-sql (setup.py) ... \u001b[?25l\u001b[?25hdone\n",
            "  Stored in directory: /root/.cache/pip/wheels/4c/a3/09/e002ac6fb3921eb0aefd511f7aeca7d0b817b4fdb4b441cc7e\n",
            "  Building wheel for parsedatetime (setup.py) ... \u001b[?25l\u001b[?25hdone\n",
            "  Stored in directory: /root/.cache/pip/wheels/e9/d0/db/aa6af26d9762852afc0c982d96f9b4f29a373205889453555b\n",
            "Successfully built csvkit agate-excel agate-dbf agate-sql parsedatetime\n",
            "Installing collected packages: pytimeparse, parsedatetime, leather, isodate, agate, agate-excel, dbfread, agate-dbf, agate-sql, csvkit\n",
            "Successfully installed agate-1.6.1 agate-dbf-0.2.1 agate-excel-0.2.3 agate-sql-0.5.4 csvkit-1.0.4 dbfread-2.0.7 isodate-0.6.0 leather-0.3.3 parsedatetime-2.4 pytimeparse-1.1.8\n"
          ],
          "name": "stdout"
        }
      ]
    },
    {
      "cell_type": "code",
      "metadata": {
        "id": "VJWFu7WBbV5e",
        "colab_type": "code",
        "colab": {
          "base_uri": "https://localhost:8080/",
          "height": 54
        },
        "outputId": "ad901c83-d12f-4239-e4ea-1a98cc7016fd"
      },
      "source": [
        "from google.colab import drive\n",
        "drive.mount('/content/drive')"
      ],
      "execution_count": 44,
      "outputs": [
        {
          "output_type": "stream",
          "text": [
            "Drive already mounted at /content/drive; to attempt to forcibly remount, call drive.mount(\"/content/drive\", force_remount=True).\n"
          ],
          "name": "stdout"
        }
      ]
    },
    {
      "cell_type": "code",
      "metadata": {
        "id": "nsPcpZzAdfZF",
        "colab_type": "code",
        "colab": {
          "base_uri": "https://localhost:8080/",
          "height": 479
        },
        "outputId": "2a3556fc-9744-441c-ef41-4d1e14023c94"
      },
      "source": [
        "import pandas as pd\n",
        "df = pd.read_csv(\"/content/drive/My Drive/ny_police.csv\")\n",
        "df.head()"
      ],
      "execution_count": 45,
      "outputs": [
        {
          "output_type": "stream",
          "text": [
            "/usr/local/lib/python3.6/dist-packages/IPython/core/interactiveshell.py:2718: DtypeWarning: Columns (14) have mixed types. Specify dtype option on import or set low_memory=False.\n",
            "  interactivity=interactivity, compiler=compiler, result=result)\n"
          ],
          "name": "stderr"
        },
        {
          "output_type": "execute_result",
          "data": {
            "text/html": [
              "<div>\n",
              "<style scoped>\n",
              "    .dataframe tbody tr th:only-of-type {\n",
              "        vertical-align: middle;\n",
              "    }\n",
              "\n",
              "    .dataframe tbody tr th {\n",
              "        vertical-align: top;\n",
              "    }\n",
              "\n",
              "    .dataframe thead th {\n",
              "        text-align: right;\n",
              "    }\n",
              "</style>\n",
              "<table border=\"1\" class=\"dataframe\">\n",
              "  <thead>\n",
              "    <tr style=\"text-align: right;\">\n",
              "      <th></th>\n",
              "      <th>raw_row_number</th>\n",
              "      <th>date</th>\n",
              "      <th>time</th>\n",
              "      <th>location</th>\n",
              "      <th>county_name</th>\n",
              "      <th>subject_age</th>\n",
              "      <th>subject_race</th>\n",
              "      <th>subject_sex</th>\n",
              "      <th>type</th>\n",
              "      <th>violation</th>\n",
              "      <th>speed</th>\n",
              "      <th>posted_speed</th>\n",
              "      <th>vehicle_color</th>\n",
              "      <th>vehicle_make</th>\n",
              "      <th>vehicle_model</th>\n",
              "      <th>vehicle_type</th>\n",
              "      <th>vehicle_registration_state</th>\n",
              "      <th>vehicle_year</th>\n",
              "    </tr>\n",
              "  </thead>\n",
              "  <tbody>\n",
              "    <tr>\n",
              "      <th>0</th>\n",
              "      <td>1</td>\n",
              "      <td>2010-10-05</td>\n",
              "      <td>17:01:00</td>\n",
              "      <td>PALISADES PARKWAY SB|PIPK|9 - PARKWAY</td>\n",
              "      <td>Rockland County</td>\n",
              "      <td>25.0</td>\n",
              "      <td>white</td>\n",
              "      <td>male</td>\n",
              "      <td>vehicular</td>\n",
              "      <td>NO FRONT PLATE DISPLAY</td>\n",
              "      <td>NaN</td>\n",
              "      <td>NaN</td>\n",
              "      <td>gl - gold</td>\n",
              "      <td>chev</td>\n",
              "      <td>NaN</td>\n",
              "      <td>1 - passenger</td>\n",
              "      <td>NY</td>\n",
              "      <td>2000.0</td>\n",
              "    </tr>\n",
              "    <tr>\n",
              "      <th>1</th>\n",
              "      <td>2</td>\n",
              "      <td>2010-01-19</td>\n",
              "      <td>14:51:00</td>\n",
              "      <td>ST-16|16|2 - STATE</td>\n",
              "      <td>Cattaraugus County</td>\n",
              "      <td>54.0</td>\n",
              "      <td>white</td>\n",
              "      <td>male</td>\n",
              "      <td>vehicular</td>\n",
              "      <td>EXPIRED INSPECTION 12/31/09</td>\n",
              "      <td>NaN</td>\n",
              "      <td>NaN</td>\n",
              "      <td>wh - white</td>\n",
              "      <td>intl</td>\n",
              "      <td>NaN</td>\n",
              "      <td>6 - truck/tractor</td>\n",
              "      <td>NY</td>\n",
              "      <td>2004.0</td>\n",
              "    </tr>\n",
              "    <tr>\n",
              "      <th>2</th>\n",
              "      <td>3</td>\n",
              "      <td>2010-02-12</td>\n",
              "      <td>10:33:00</td>\n",
              "      <td>TAMARAC ROAD S/B|129|3 - COUNTY</td>\n",
              "      <td>Rensselaer County</td>\n",
              "      <td>21.0</td>\n",
              "      <td>white</td>\n",
              "      <td>male</td>\n",
              "      <td>vehicular</td>\n",
              "      <td>UNINSPECTED MOTOR VEHICLE</td>\n",
              "      <td>NaN</td>\n",
              "      <td>NaN</td>\n",
              "      <td>bl - blue</td>\n",
              "      <td>suba</td>\n",
              "      <td>NaN</td>\n",
              "      <td>1 - passenger</td>\n",
              "      <td>NY</td>\n",
              "      <td>2008.0</td>\n",
              "    </tr>\n",
              "    <tr>\n",
              "      <th>3</th>\n",
              "      <td>4</td>\n",
              "      <td>2010-04-19</td>\n",
              "      <td>20:36:00</td>\n",
              "      <td>I-87|87|1 - INTERSTATE</td>\n",
              "      <td>Albany County</td>\n",
              "      <td>25.0</td>\n",
              "      <td>white</td>\n",
              "      <td>male</td>\n",
              "      <td>vehicular</td>\n",
              "      <td>UNREGISTERED MOTOR VEHICLE</td>\n",
              "      <td>NaN</td>\n",
              "      <td>NaN</td>\n",
              "      <td>bk - black</td>\n",
              "      <td>toyt</td>\n",
              "      <td>NaN</td>\n",
              "      <td>1 - passenger</td>\n",
              "      <td>NY</td>\n",
              "      <td>2005.0</td>\n",
              "    </tr>\n",
              "    <tr>\n",
              "      <th>4</th>\n",
              "      <td>5</td>\n",
              "      <td>2010-07-10</td>\n",
              "      <td>13:53:00</td>\n",
              "      <td>WILDER ST / I-490 E|490|1 - INTERSTATE</td>\n",
              "      <td>Monroe County</td>\n",
              "      <td>69.0</td>\n",
              "      <td>black</td>\n",
              "      <td>male</td>\n",
              "      <td>vehicular</td>\n",
              "      <td>UNINSPECTED MOTOR VEHICLE</td>\n",
              "      <td>NaN</td>\n",
              "      <td>NaN</td>\n",
              "      <td>rd - red</td>\n",
              "      <td>niss</td>\n",
              "      <td>NaN</td>\n",
              "      <td>1 - passenger</td>\n",
              "      <td>NY</td>\n",
              "      <td>2008.0</td>\n",
              "    </tr>\n",
              "  </tbody>\n",
              "</table>\n",
              "</div>"
            ],
            "text/plain": [
              "   raw_row_number        date      time  \\\n",
              "0               1  2010-10-05  17:01:00   \n",
              "1               2  2010-01-19  14:51:00   \n",
              "2               3  2010-02-12  10:33:00   \n",
              "3               4  2010-04-19  20:36:00   \n",
              "4               5  2010-07-10  13:53:00   \n",
              "\n",
              "                                 location         county_name  subject_age  \\\n",
              "0   PALISADES PARKWAY SB|PIPK|9 - PARKWAY     Rockland County         25.0   \n",
              "1                      ST-16|16|2 - STATE  Cattaraugus County         54.0   \n",
              "2         TAMARAC ROAD S/B|129|3 - COUNTY   Rensselaer County         21.0   \n",
              "3                  I-87|87|1 - INTERSTATE       Albany County         25.0   \n",
              "4  WILDER ST / I-490 E|490|1 - INTERSTATE       Monroe County         69.0   \n",
              "\n",
              "  subject_race subject_sex       type                    violation  speed  \\\n",
              "0        white        male  vehicular       NO FRONT PLATE DISPLAY    NaN   \n",
              "1        white        male  vehicular  EXPIRED INSPECTION 12/31/09    NaN   \n",
              "2        white        male  vehicular    UNINSPECTED MOTOR VEHICLE    NaN   \n",
              "3        white        male  vehicular   UNREGISTERED MOTOR VEHICLE    NaN   \n",
              "4        black        male  vehicular    UNINSPECTED MOTOR VEHICLE    NaN   \n",
              "\n",
              "   posted_speed vehicle_color vehicle_make vehicle_model       vehicle_type  \\\n",
              "0           NaN     gl - gold         chev           NaN      1 - passenger   \n",
              "1           NaN    wh - white         intl           NaN  6 - truck/tractor   \n",
              "2           NaN     bl - blue         suba           NaN      1 - passenger   \n",
              "3           NaN    bk - black         toyt           NaN      1 - passenger   \n",
              "4           NaN      rd - red         niss           NaN      1 - passenger   \n",
              "\n",
              "  vehicle_registration_state  vehicle_year  \n",
              "0                         NY        2000.0  \n",
              "1                         NY        2004.0  \n",
              "2                         NY        2008.0  \n",
              "3                         NY        2005.0  \n",
              "4                         NY        2008.0  "
            ]
          },
          "metadata": {
            "tags": []
          },
          "execution_count": 45
        }
      ]
    },
    {
      "cell_type": "code",
      "metadata": {
        "id": "9xMJtw5kZjvY",
        "colab_type": "code",
        "colab": {}
      },
      "source": [
        "optimized_df = df.copy()"
      ],
      "execution_count": 0,
      "outputs": []
    },
    {
      "cell_type": "code",
      "metadata": {
        "id": "dGnmBclhgotR",
        "colab_type": "code",
        "colab": {
          "base_uri": "https://localhost:8080/",
          "height": 408
        },
        "outputId": "0dbf7d8b-cd81-4552-9494-9ba8f6c8ef60"
      },
      "source": [
        "#On affiche le détail de l'utilisation de la mémoire ainsi que la répartition par colonne des types donnnées.\n",
        "df.info(memory_usage='deep')"
      ],
      "execution_count": 47,
      "outputs": [
        {
          "output_type": "stream",
          "text": [
            "<class 'pandas.core.frame.DataFrame'>\n",
            "RangeIndex: 7962169 entries, 0 to 7962168\n",
            "Data columns (total 18 columns):\n",
            "raw_row_number                int64\n",
            "date                          object\n",
            "time                          object\n",
            "location                      object\n",
            "county_name                   object\n",
            "subject_age                   float64\n",
            "subject_race                  object\n",
            "subject_sex                   object\n",
            "type                          object\n",
            "violation                     object\n",
            "speed                         float64\n",
            "posted_speed                  float64\n",
            "vehicle_color                 object\n",
            "vehicle_make                  object\n",
            "vehicle_model                 object\n",
            "vehicle_type                  object\n",
            "vehicle_registration_state    object\n",
            "vehicle_year                  float64\n",
            "dtypes: float64(4), int64(1), object(13)\n",
            "memory usage: 6.5 GB\n"
          ],
          "name": "stdout"
        }
      ]
    },
    {
      "cell_type": "code",
      "metadata": {
        "id": "VpFS_Ss4iA9f",
        "colab_type": "code",
        "colab": {
          "base_uri": "https://localhost:8080/",
          "height": 210
        },
        "outputId": "045477dd-a869-4582-9977-df5d510f1f5a"
      },
      "source": [
        "df_obj = df.select_dtypes(include=['object']).copy()\n",
        "df_obj.describe()"
      ],
      "execution_count": 48,
      "outputs": [
        {
          "output_type": "execute_result",
          "data": {
            "text/html": [
              "<div>\n",
              "<style scoped>\n",
              "    .dataframe tbody tr th:only-of-type {\n",
              "        vertical-align: middle;\n",
              "    }\n",
              "\n",
              "    .dataframe tbody tr th {\n",
              "        vertical-align: top;\n",
              "    }\n",
              "\n",
              "    .dataframe thead th {\n",
              "        text-align: right;\n",
              "    }\n",
              "</style>\n",
              "<table border=\"1\" class=\"dataframe\">\n",
              "  <thead>\n",
              "    <tr style=\"text-align: right;\">\n",
              "      <th></th>\n",
              "      <th>date</th>\n",
              "      <th>time</th>\n",
              "      <th>location</th>\n",
              "      <th>county_name</th>\n",
              "      <th>subject_race</th>\n",
              "      <th>subject_sex</th>\n",
              "      <th>type</th>\n",
              "      <th>violation</th>\n",
              "      <th>vehicle_color</th>\n",
              "      <th>vehicle_make</th>\n",
              "      <th>vehicle_model</th>\n",
              "      <th>vehicle_type</th>\n",
              "      <th>vehicle_registration_state</th>\n",
              "    </tr>\n",
              "  </thead>\n",
              "  <tbody>\n",
              "    <tr>\n",
              "      <th>count</th>\n",
              "      <td>7962169</td>\n",
              "      <td>7962169</td>\n",
              "      <td>7074742</td>\n",
              "      <td>7962157</td>\n",
              "      <td>7962150</td>\n",
              "      <td>7960212</td>\n",
              "      <td>7962169</td>\n",
              "      <td>7962146</td>\n",
              "      <td>7907739</td>\n",
              "      <td>7950304</td>\n",
              "      <td>93</td>\n",
              "      <td>7962131</td>\n",
              "      <td>7722895</td>\n",
              "    </tr>\n",
              "    <tr>\n",
              "      <th>unique</th>\n",
              "      <td>2905</td>\n",
              "      <td>1440</td>\n",
              "      <td>400047</td>\n",
              "      <td>63</td>\n",
              "      <td>5</td>\n",
              "      <td>2</td>\n",
              "      <td>1</td>\n",
              "      <td>340622</td>\n",
              "      <td>15</td>\n",
              "      <td>5782</td>\n",
              "      <td>47</td>\n",
              "      <td>14</td>\n",
              "      <td>51</td>\n",
              "    </tr>\n",
              "    <tr>\n",
              "      <th>top</th>\n",
              "      <td>2010-05-25</td>\n",
              "      <td>11:00:00</td>\n",
              "      <td>I-87|87|1 - INTERSTATE</td>\n",
              "      <td>Erie County</td>\n",
              "      <td>white</td>\n",
              "      <td>male</td>\n",
              "      <td>vehicular</td>\n",
              "      <td>SPEED IN ZONE</td>\n",
              "      <td>gy - grey</td>\n",
              "      <td>chev</td>\n",
              "      <td>savana</td>\n",
              "      <td>1 - passenger</td>\n",
              "      <td>NY</td>\n",
              "    </tr>\n",
              "    <tr>\n",
              "      <th>freq</th>\n",
              "      <td>5410</td>\n",
              "      <td>17961</td>\n",
              "      <td>149638</td>\n",
              "      <td>469716</td>\n",
              "      <td>5926237</td>\n",
              "      <td>5454829</td>\n",
              "      <td>7962169</td>\n",
              "      <td>1524591</td>\n",
              "      <td>2056972</td>\n",
              "      <td>1017588</td>\n",
              "      <td>6</td>\n",
              "      <td>6789930</td>\n",
              "      <td>6296592</td>\n",
              "    </tr>\n",
              "  </tbody>\n",
              "</table>\n",
              "</div>"
            ],
            "text/plain": [
              "              date      time                location  county_name  \\\n",
              "count      7962169   7962169                 7074742      7962157   \n",
              "unique        2905      1440                  400047           63   \n",
              "top     2010-05-25  11:00:00  I-87|87|1 - INTERSTATE  Erie County   \n",
              "freq          5410     17961                  149638       469716   \n",
              "\n",
              "       subject_race subject_sex       type      violation vehicle_color  \\\n",
              "count       7962150     7960212    7962169        7962146       7907739   \n",
              "unique            5           2          1         340622            15   \n",
              "top           white        male  vehicular  SPEED IN ZONE     gy - grey   \n",
              "freq        5926237     5454829    7962169        1524591       2056972   \n",
              "\n",
              "       vehicle_make vehicle_model   vehicle_type vehicle_registration_state  \n",
              "count       7950304            93        7962131                    7722895  \n",
              "unique         5782            47             14                         51  \n",
              "top            chev        savana  1 - passenger                         NY  \n",
              "freq        1017588             6        6789930                    6296592  "
            ]
          },
          "metadata": {
            "tags": []
          },
          "execution_count": 48
        }
      ]
    },
    {
      "cell_type": "code",
      "metadata": {
        "id": "oTl7_GBvNcwF",
        "colab_type": "code",
        "colab": {
          "base_uri": "https://localhost:8080/",
          "height": 85
        },
        "outputId": "22340a22-b3d2-47d3-a3f4-9d7386859d7d"
      },
      "source": [
        "df_obj.groupby('subject_sex').size()"
      ],
      "execution_count": 50,
      "outputs": [
        {
          "output_type": "execute_result",
          "data": {
            "text/plain": [
              "subject_sex\n",
              "female    2505383\n",
              "male      5454829\n",
              "dtype: int64"
            ]
          },
          "metadata": {
            "tags": []
          },
          "execution_count": 50
        }
      ]
    },
    {
      "cell_type": "code",
      "metadata": {
        "id": "0-2hK_FDhQAc",
        "colab_type": "code",
        "colab": {}
      },
      "source": [
        "converted_obj = pd.DataFrame()\n",
        "\n",
        "for col in df_obj.columns:\n",
        "    if len(df_obj[col].unique()) / len(df_obj[col]) < 0.5:\n",
        "        converted_obj.loc[:,col] = df_obj[col].astype('category')\n",
        "    else:\n",
        "        converted_obj.loc[:,col] = df_obj[col]"
      ],
      "execution_count": 0,
      "outputs": []
    },
    {
      "cell_type": "code",
      "metadata": {
        "id": "k6-rvZlulSf6",
        "colab_type": "code",
        "colab": {}
      },
      "source": [
        "def mem_usage(pandas_obj):\n",
        "    if isinstance(pandas_obj,pd.DataFrame):\n",
        "        usage_b = pandas_obj.memory_usage(deep=True).sum()\n",
        "    else:\n",
        "        usage_b = pandas_obj.memory_usage(deep=True)    \n",
        "    usage_mb = usage_b / 1024 ** 2 # convertir les bytes en megabytes\n",
        "    return \"{:03.2f} MB\".format(usage_mb) # afficher sous format nombre (min 3 chiffres) et une précision de deux décimales."
      ],
      "execution_count": 0,
      "outputs": []
    },
    {
      "cell_type": "code",
      "metadata": {
        "id": "aguR8ygD3ogB",
        "colab_type": "code",
        "colab": {
          "base_uri": "https://localhost:8080/",
          "height": 51
        },
        "outputId": "0490522d-40ec-4b75-c269-e530135e7bd3"
      },
      "source": [
        "print(mem_usage(df_obj))\n",
        "print(mem_usage(converted_obj))"
      ],
      "execution_count": 60,
      "outputs": [
        {
          "output_type": "stream",
          "text": [
            "6375.61 MB\n",
            "252.79 MB\n"
          ],
          "name": "stdout"
        }
      ]
    },
    {
      "cell_type": "code",
      "metadata": {
        "id": "ALoaGrA8srVR",
        "colab_type": "code",
        "colab": {}
      },
      "source": [
        "df_int = df.select_dtypes(include=['int']).copy()"
      ],
      "execution_count": 0,
      "outputs": []
    },
    {
      "cell_type": "code",
      "metadata": {
        "id": "5RStgdPI32sa",
        "colab_type": "code",
        "colab": {
          "base_uri": "https://localhost:8080/",
          "height": 119
        },
        "outputId": "ddd420b8-4513-4415-a5e0-2a8820399e32"
      },
      "source": [
        "df_int.info(memory_usage='deep')"
      ],
      "execution_count": 61,
      "outputs": [
        {
          "output_type": "stream",
          "text": [
            "<class 'pandas.core.frame.DataFrame'>\n",
            "RangeIndex: 7962169 entries, 0 to 7962168\n",
            "Data columns (total 1 columns):\n",
            "raw_row_number    int64\n",
            "dtypes: int64(1)\n",
            "memory usage: 60.7 MB\n"
          ],
          "name": "stdout"
        }
      ]
    },
    {
      "cell_type": "code",
      "metadata": {
        "id": "LbwKckIlbu-7",
        "colab_type": "code",
        "colab": {}
      },
      "source": [
        "converted_int = df_int.apply(pd.to_numeric,downcast='unsigned')"
      ],
      "execution_count": 0,
      "outputs": []
    },
    {
      "cell_type": "code",
      "metadata": {
        "colab_type": "code",
        "id": "-Dt0LHtR03o3",
        "colab": {
          "base_uri": "https://localhost:8080/",
          "height": 119
        },
        "outputId": "3a5d0769-6725-4930-a0e2-1d49626f0273"
      },
      "source": [
        "converted_int.info(memory_usage='deep')"
      ],
      "execution_count": 59,
      "outputs": [
        {
          "output_type": "stream",
          "text": [
            "<class 'pandas.core.frame.DataFrame'>\n",
            "RangeIndex: 7962169 entries, 0 to 7962168\n",
            "Data columns (total 1 columns):\n",
            "raw_row_number    uint32\n",
            "dtypes: uint32(1)\n",
            "memory usage: 30.4 MB\n"
          ],
          "name": "stdout"
        }
      ]
    },
    {
      "cell_type": "code",
      "metadata": {
        "id": "ga2Z0VBkfBt8",
        "colab_type": "code",
        "colab": {
          "base_uri": "https://localhost:8080/",
          "height": 51
        },
        "outputId": "82bfa5e1-0713-4d85-ae7a-1c6d62064896"
      },
      "source": [
        "print(mem_usage(df_int))\n",
        "print(mem_usage(converted_int))"
      ],
      "execution_count": 62,
      "outputs": [
        {
          "output_type": "stream",
          "text": [
            "60.75 MB\n",
            "30.37 MB\n"
          ],
          "name": "stdout"
        }
      ]
    },
    {
      "cell_type": "code",
      "metadata": {
        "id": "1oF3miQnfYQX",
        "colab_type": "code",
        "colab": {
          "base_uri": "https://localhost:8080/",
          "height": 170
        },
        "outputId": "4985ec8c-47ef-44c0-b79b-83cb61f6123c"
      },
      "source": [
        "df_float = df.select_dtypes(include=['float']).copy()\n",
        "df_float.info(memory_usage = 'deep')"
      ],
      "execution_count": 63,
      "outputs": [
        {
          "output_type": "stream",
          "text": [
            "<class 'pandas.core.frame.DataFrame'>\n",
            "RangeIndex: 7962169 entries, 0 to 7962168\n",
            "Data columns (total 4 columns):\n",
            "subject_age     float64\n",
            "speed           float64\n",
            "posted_speed    float64\n",
            "vehicle_year    float64\n",
            "dtypes: float64(4)\n",
            "memory usage: 243.0 MB\n"
          ],
          "name": "stdout"
        }
      ]
    },
    {
      "cell_type": "code",
      "metadata": {
        "id": "2hE7G05Ufzg-",
        "colab_type": "code",
        "colab": {}
      },
      "source": [
        "converted_float = df_float.apply(pd.to_numeric,downcast='float')"
      ],
      "execution_count": 0,
      "outputs": []
    },
    {
      "cell_type": "code",
      "metadata": {
        "id": "MFVdvf_Dg0my",
        "colab_type": "code",
        "colab": {
          "base_uri": "https://localhost:8080/",
          "height": 170
        },
        "outputId": "5a90df67-f13f-4848-ad3c-c660b6a8b08f"
      },
      "source": [
        "converted_float.info(memory_usage='deep')"
      ],
      "execution_count": 65,
      "outputs": [
        {
          "output_type": "stream",
          "text": [
            "<class 'pandas.core.frame.DataFrame'>\n",
            "RangeIndex: 7962169 entries, 0 to 7962168\n",
            "Data columns (total 4 columns):\n",
            "subject_age     float32\n",
            "speed           float32\n",
            "posted_speed    float32\n",
            "vehicle_year    float32\n",
            "dtypes: float32(4)\n",
            "memory usage: 121.5 MB\n"
          ],
          "name": "stdout"
        }
      ]
    },
    {
      "cell_type": "code",
      "metadata": {
        "id": "pCfrzyyeged3",
        "colab_type": "code",
        "colab": {
          "base_uri": "https://localhost:8080/",
          "height": 51
        },
        "outputId": "ffee61f1-36c1-4ff3-fa20-2d98a6be1d6e"
      },
      "source": [
        "print(mem_usage(df_float))\n",
        "print(mem_usage(converted_float))"
      ],
      "execution_count": 66,
      "outputs": [
        {
          "output_type": "stream",
          "text": [
            "242.99 MB\n",
            "121.49 MB\n"
          ],
          "name": "stdout"
        }
      ]
    },
    {
      "cell_type": "code",
      "metadata": {
        "id": "5T95p7Davw2m",
        "colab_type": "code",
        "colab": {}
      },
      "source": [
        "optimized_df[converted_obj.columns] = converted_obj\n",
        "optimized_df[converted_int.columns] = converted_int\n",
        "optimized_df[converted_float.columns] = converted_float\n"
      ],
      "execution_count": 0,
      "outputs": []
    },
    {
      "cell_type": "code",
      "metadata": {
        "id": "xbFL4TZDdbs5",
        "colab_type": "code",
        "colab": {
          "base_uri": "https://localhost:8080/",
          "height": 51
        },
        "outputId": "d09ca3c5-0ed5-47ba-ddf5-298aabd26716"
      },
      "source": [
        "print(mem_usage(df))\n",
        "print(mem_usage(optimized_df))"
      ],
      "execution_count": 68,
      "outputs": [
        {
          "output_type": "stream",
          "text": [
            "6679.35 MB\n",
            "404.66 MB\n"
          ],
          "name": "stdout"
        }
      ]
    },
    {
      "cell_type": "code",
      "metadata": {
        "id": "WV0BEXOdh9Ef",
        "colab_type": "code",
        "colab": {
          "base_uri": "https://localhost:8080/",
          "height": 54
        },
        "outputId": "8b310b71-a6bf-45fa-d657-78e71cf12698"
      },
      "source": [
        "dtypes = optimized_df.drop(['date', 'time'],axis=1).dtypes\n",
        "column_types = dict(zip(dtypes.index, [i.name for i in dtypes.values]))\n",
        "print(column_types)"
      ],
      "execution_count": 70,
      "outputs": [
        {
          "output_type": "stream",
          "text": [
            "{'raw_row_number': 'uint32', 'location': 'category', 'county_name': 'category', 'subject_age': 'float32', 'subject_race': 'category', 'subject_sex': 'category', 'type': 'category', 'violation': 'category', 'speed': 'float32', 'posted_speed': 'float32', 'vehicle_color': 'category', 'vehicle_make': 'category', 'vehicle_model': 'category', 'vehicle_type': 'category', 'vehicle_registration_state': 'category', 'vehicle_year': 'float32'}\n"
          ],
          "name": "stdout"
        }
      ]
    },
    {
      "cell_type": "code",
      "metadata": {
        "id": "ibF432lakBnX",
        "colab_type": "code",
        "colab": {
          "base_uri": "https://localhost:8080/",
          "height": 68
        },
        "outputId": "68dd5525-9dd2-487f-a8a6-346c37487d6b"
      },
      "source": [
        "%%time #Pour mesurer le temps d'éxécution de la cellule \n",
        "read_and_optimized = pd.read_csv('/content/drive/My Drive/ny_police.csv',dtype=column_types,parse_dates=[['date', 'time']],infer_datetime_format=True)\n",
        "print(mem_usage(read_and_optimized))\n",
        "read_and_optimized.head()"
      ],
      "execution_count": 71,
      "outputs": [
        {
          "output_type": "stream",
          "text": [
            "434.64 MB\n",
            "CPU times: user 50.5 s, sys: 2.53 s, total: 53 s\n",
            "Wall time: 53.6 s\n"
          ],
          "name": "stdout"
        }
      ]
    },
    {
      "cell_type": "code",
      "metadata": {
        "id": "1dFj8JiAfVgP",
        "colab_type": "code",
        "colab": {
          "base_uri": "https://localhost:8080/",
          "height": 391
        },
        "outputId": "49d46760-4c38-45cd-fe38-8c7a8bef2fa1"
      },
      "source": [
        "read_and_optimized.info(memory_usage='deep')"
      ],
      "execution_count": 72,
      "outputs": [
        {
          "output_type": "stream",
          "text": [
            "<class 'pandas.core.frame.DataFrame'>\n",
            "RangeIndex: 7962169 entries, 0 to 7962168\n",
            "Data columns (total 17 columns):\n",
            "date_time                     datetime64[ns]\n",
            "raw_row_number                uint32\n",
            "location                      category\n",
            "county_name                   category\n",
            "subject_age                   float32\n",
            "subject_race                  category\n",
            "subject_sex                   category\n",
            "type                          category\n",
            "violation                     category\n",
            "speed                         float32\n",
            "posted_speed                  float32\n",
            "vehicle_color                 category\n",
            "vehicle_make                  category\n",
            "vehicle_model                 category\n",
            "vehicle_type                  category\n",
            "vehicle_registration_state    category\n",
            "vehicle_year                  float32\n",
            "dtypes: category(11), datetime64[ns](1), float32(4), uint32(1)\n",
            "memory usage: 434.6 MB\n"
          ],
          "name": "stdout"
        }
      ]
    },
    {
      "cell_type": "code",
      "metadata": {
        "id": "vGlKTPVMwbLu",
        "colab_type": "code",
        "colab": {}
      },
      "source": [
        "from pathlib import Path\n",
        "path = Path(\"/content/drive/My Drive\")"
      ],
      "execution_count": 0,
      "outputs": []
    },
    {
      "cell_type": "code",
      "metadata": {
        "id": "cV5HNu3tobhC",
        "colab_type": "code",
        "colab": {}
      },
      "source": [
        "read_and_optimized.to_hdf(path/'ny_police.h5', key='read_and_optimized', format=\"table\")"
      ],
      "execution_count": 0,
      "outputs": []
    },
    {
      "cell_type": "code",
      "metadata": {
        "id": "L8CLCqXx0_6s",
        "colab_type": "code",
        "colab": {
          "base_uri": "https://localhost:8080/",
          "height": 51
        },
        "outputId": "2d1206fa-414d-424d-a2b2-d44828fd5a4b"
      },
      "source": [
        "%%time\n",
        "df_test = pd.read_hdf(path/'ny_police.h5')"
      ],
      "execution_count": 76,
      "outputs": [
        {
          "output_type": "stream",
          "text": [
            "CPU times: user 5.63 s, sys: 1.16 s, total: 6.79 s\n",
            "Wall time: 7.32 s\n"
          ],
          "name": "stdout"
        }
      ]
    },
    {
      "cell_type": "code",
      "metadata": {
        "id": "pXdMx21y1k_D",
        "colab_type": "code",
        "colab": {
          "base_uri": "https://localhost:8080/",
          "height": 425
        },
        "outputId": "a1085faf-457c-4055-f1b9-aee398c3be6a"
      },
      "source": [
        "%%time\n",
        "df_test.info(memory_usage='deep')"
      ],
      "execution_count": 77,
      "outputs": [
        {
          "output_type": "stream",
          "text": [
            "<class 'pandas.core.frame.DataFrame'>\n",
            "Int64Index: 7962169 entries, 0 to 7962168\n",
            "Data columns (total 17 columns):\n",
            "date_time                     datetime64[ns]\n",
            "raw_row_number                uint32\n",
            "location                      category\n",
            "county_name                   category\n",
            "subject_age                   float32\n",
            "subject_race                  category\n",
            "subject_sex                   category\n",
            "type                          category\n",
            "violation                     category\n",
            "speed                         float32\n",
            "posted_speed                  float32\n",
            "vehicle_color                 category\n",
            "vehicle_make                  category\n",
            "vehicle_model                 category\n",
            "vehicle_type                  category\n",
            "vehicle_registration_state    category\n",
            "vehicle_year                  float32\n",
            "dtypes: category(11), datetime64[ns](1), float32(4), uint32(1)\n",
            "memory usage: 495.4 MB\n",
            "CPU times: user 516 ms, sys: 983 µs, total: 517 ms\n",
            "Wall time: 517 ms\n"
          ],
          "name": "stdout"
        }
      ]
    }
  ]
}